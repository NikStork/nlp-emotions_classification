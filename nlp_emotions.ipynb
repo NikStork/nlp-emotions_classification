{
  "nbformat": 4,
  "nbformat_minor": 0,
  "metadata": {
    "colab": {
      "provenance": [],
      "mount_file_id": "1hnlcQaB_nvOluFr-HUiIICmItriEFofn",
      "authorship_tag": "ABX9TyPfuI04DMAlyCX7bZ/k6eVM",
      "include_colab_link": true
    },
    "kernelspec": {
      "name": "python3",
      "display_name": "Python 3"
    },
    "language_info": {
      "name": "python"
    },
    "widgets": {
      "application/vnd.jupyter.widget-state+json": {
        "ba57a07463a24d76b2a7f56825fd1eca": {
          "model_module": "@jupyter-widgets/controls",
          "model_name": "HBoxModel",
          "model_module_version": "1.5.0",
          "state": {
            "_dom_classes": [],
            "_model_module": "@jupyter-widgets/controls",
            "_model_module_version": "1.5.0",
            "_model_name": "HBoxModel",
            "_view_count": null,
            "_view_module": "@jupyter-widgets/controls",
            "_view_module_version": "1.5.0",
            "_view_name": "HBoxView",
            "box_style": "",
            "children": [
              "IPY_MODEL_7f67593f72704294b8f4ae141be0dc3f",
              "IPY_MODEL_9d1c09875aa84339b340e435249ac264",
              "IPY_MODEL_771c440e14ab447faceabd5fe9750ae6"
            ],
            "layout": "IPY_MODEL_454d9b8d05354003b93851a55df02c98"
          }
        },
        "7f67593f72704294b8f4ae141be0dc3f": {
          "model_module": "@jupyter-widgets/controls",
          "model_name": "HTMLModel",
          "model_module_version": "1.5.0",
          "state": {
            "_dom_classes": [],
            "_model_module": "@jupyter-widgets/controls",
            "_model_module_version": "1.5.0",
            "_model_name": "HTMLModel",
            "_view_count": null,
            "_view_module": "@jupyter-widgets/controls",
            "_view_module_version": "1.5.0",
            "_view_name": "HTMLView",
            "description": "",
            "description_tooltip": null,
            "layout": "IPY_MODEL_4f16a63d5d8846f79777a8fdb601521f",
            "placeholder": "​",
            "style": "IPY_MODEL_9ca9451dc449498ca0fe8652c19fa566",
            "value": "100%"
          }
        },
        "9d1c09875aa84339b340e435249ac264": {
          "model_module": "@jupyter-widgets/controls",
          "model_name": "FloatProgressModel",
          "model_module_version": "1.5.0",
          "state": {
            "_dom_classes": [],
            "_model_module": "@jupyter-widgets/controls",
            "_model_module_version": "1.5.0",
            "_model_name": "FloatProgressModel",
            "_view_count": null,
            "_view_module": "@jupyter-widgets/controls",
            "_view_module_version": "1.5.0",
            "_view_name": "ProgressView",
            "bar_style": "success",
            "description": "",
            "description_tooltip": null,
            "layout": "IPY_MODEL_8913186d1c3749bda058d72b04750d36",
            "max": 210989,
            "min": 0,
            "orientation": "horizontal",
            "style": "IPY_MODEL_d75823c91f964898b1bcd381f45e8a65",
            "value": 210989
          }
        },
        "771c440e14ab447faceabd5fe9750ae6": {
          "model_module": "@jupyter-widgets/controls",
          "model_name": "HTMLModel",
          "model_module_version": "1.5.0",
          "state": {
            "_dom_classes": [],
            "_model_module": "@jupyter-widgets/controls",
            "_model_module_version": "1.5.0",
            "_model_name": "HTMLModel",
            "_view_count": null,
            "_view_module": "@jupyter-widgets/controls",
            "_view_module_version": "1.5.0",
            "_view_name": "HTMLView",
            "description": "",
            "description_tooltip": null,
            "layout": "IPY_MODEL_fe4e6e384ff24139afa53c2079656950",
            "placeholder": "​",
            "style": "IPY_MODEL_c3d32cb981d148b59e270990e83fe78c",
            "value": " 210989/210989 [29:23&lt;00:00, 105.75it/s]"
          }
        },
        "454d9b8d05354003b93851a55df02c98": {
          "model_module": "@jupyter-widgets/base",
          "model_name": "LayoutModel",
          "model_module_version": "1.2.0",
          "state": {
            "_model_module": "@jupyter-widgets/base",
            "_model_module_version": "1.2.0",
            "_model_name": "LayoutModel",
            "_view_count": null,
            "_view_module": "@jupyter-widgets/base",
            "_view_module_version": "1.2.0",
            "_view_name": "LayoutView",
            "align_content": null,
            "align_items": null,
            "align_self": null,
            "border": null,
            "bottom": null,
            "display": null,
            "flex": null,
            "flex_flow": null,
            "grid_area": null,
            "grid_auto_columns": null,
            "grid_auto_flow": null,
            "grid_auto_rows": null,
            "grid_column": null,
            "grid_gap": null,
            "grid_row": null,
            "grid_template_areas": null,
            "grid_template_columns": null,
            "grid_template_rows": null,
            "height": null,
            "justify_content": null,
            "justify_items": null,
            "left": null,
            "margin": null,
            "max_height": null,
            "max_width": null,
            "min_height": null,
            "min_width": null,
            "object_fit": null,
            "object_position": null,
            "order": null,
            "overflow": null,
            "overflow_x": null,
            "overflow_y": null,
            "padding": null,
            "right": null,
            "top": null,
            "visibility": null,
            "width": null
          }
        },
        "4f16a63d5d8846f79777a8fdb601521f": {
          "model_module": "@jupyter-widgets/base",
          "model_name": "LayoutModel",
          "model_module_version": "1.2.0",
          "state": {
            "_model_module": "@jupyter-widgets/base",
            "_model_module_version": "1.2.0",
            "_model_name": "LayoutModel",
            "_view_count": null,
            "_view_module": "@jupyter-widgets/base",
            "_view_module_version": "1.2.0",
            "_view_name": "LayoutView",
            "align_content": null,
            "align_items": null,
            "align_self": null,
            "border": null,
            "bottom": null,
            "display": null,
            "flex": null,
            "flex_flow": null,
            "grid_area": null,
            "grid_auto_columns": null,
            "grid_auto_flow": null,
            "grid_auto_rows": null,
            "grid_column": null,
            "grid_gap": null,
            "grid_row": null,
            "grid_template_areas": null,
            "grid_template_columns": null,
            "grid_template_rows": null,
            "height": null,
            "justify_content": null,
            "justify_items": null,
            "left": null,
            "margin": null,
            "max_height": null,
            "max_width": null,
            "min_height": null,
            "min_width": null,
            "object_fit": null,
            "object_position": null,
            "order": null,
            "overflow": null,
            "overflow_x": null,
            "overflow_y": null,
            "padding": null,
            "right": null,
            "top": null,
            "visibility": null,
            "width": null
          }
        },
        "9ca9451dc449498ca0fe8652c19fa566": {
          "model_module": "@jupyter-widgets/controls",
          "model_name": "DescriptionStyleModel",
          "model_module_version": "1.5.0",
          "state": {
            "_model_module": "@jupyter-widgets/controls",
            "_model_module_version": "1.5.0",
            "_model_name": "DescriptionStyleModel",
            "_view_count": null,
            "_view_module": "@jupyter-widgets/base",
            "_view_module_version": "1.2.0",
            "_view_name": "StyleView",
            "description_width": ""
          }
        },
        "8913186d1c3749bda058d72b04750d36": {
          "model_module": "@jupyter-widgets/base",
          "model_name": "LayoutModel",
          "model_module_version": "1.2.0",
          "state": {
            "_model_module": "@jupyter-widgets/base",
            "_model_module_version": "1.2.0",
            "_model_name": "LayoutModel",
            "_view_count": null,
            "_view_module": "@jupyter-widgets/base",
            "_view_module_version": "1.2.0",
            "_view_name": "LayoutView",
            "align_content": null,
            "align_items": null,
            "align_self": null,
            "border": null,
            "bottom": null,
            "display": null,
            "flex": null,
            "flex_flow": null,
            "grid_area": null,
            "grid_auto_columns": null,
            "grid_auto_flow": null,
            "grid_auto_rows": null,
            "grid_column": null,
            "grid_gap": null,
            "grid_row": null,
            "grid_template_areas": null,
            "grid_template_columns": null,
            "grid_template_rows": null,
            "height": null,
            "justify_content": null,
            "justify_items": null,
            "left": null,
            "margin": null,
            "max_height": null,
            "max_width": null,
            "min_height": null,
            "min_width": null,
            "object_fit": null,
            "object_position": null,
            "order": null,
            "overflow": null,
            "overflow_x": null,
            "overflow_y": null,
            "padding": null,
            "right": null,
            "top": null,
            "visibility": null,
            "width": null
          }
        },
        "d75823c91f964898b1bcd381f45e8a65": {
          "model_module": "@jupyter-widgets/controls",
          "model_name": "ProgressStyleModel",
          "model_module_version": "1.5.0",
          "state": {
            "_model_module": "@jupyter-widgets/controls",
            "_model_module_version": "1.5.0",
            "_model_name": "ProgressStyleModel",
            "_view_count": null,
            "_view_module": "@jupyter-widgets/base",
            "_view_module_version": "1.2.0",
            "_view_name": "StyleView",
            "bar_color": null,
            "description_width": ""
          }
        },
        "fe4e6e384ff24139afa53c2079656950": {
          "model_module": "@jupyter-widgets/base",
          "model_name": "LayoutModel",
          "model_module_version": "1.2.0",
          "state": {
            "_model_module": "@jupyter-widgets/base",
            "_model_module_version": "1.2.0",
            "_model_name": "LayoutModel",
            "_view_count": null,
            "_view_module": "@jupyter-widgets/base",
            "_view_module_version": "1.2.0",
            "_view_name": "LayoutView",
            "align_content": null,
            "align_items": null,
            "align_self": null,
            "border": null,
            "bottom": null,
            "display": null,
            "flex": null,
            "flex_flow": null,
            "grid_area": null,
            "grid_auto_columns": null,
            "grid_auto_flow": null,
            "grid_auto_rows": null,
            "grid_column": null,
            "grid_gap": null,
            "grid_row": null,
            "grid_template_areas": null,
            "grid_template_columns": null,
            "grid_template_rows": null,
            "height": null,
            "justify_content": null,
            "justify_items": null,
            "left": null,
            "margin": null,
            "max_height": null,
            "max_width": null,
            "min_height": null,
            "min_width": null,
            "object_fit": null,
            "object_position": null,
            "order": null,
            "overflow": null,
            "overflow_x": null,
            "overflow_y": null,
            "padding": null,
            "right": null,
            "top": null,
            "visibility": null,
            "width": null
          }
        },
        "c3d32cb981d148b59e270990e83fe78c": {
          "model_module": "@jupyter-widgets/controls",
          "model_name": "DescriptionStyleModel",
          "model_module_version": "1.5.0",
          "state": {
            "_model_module": "@jupyter-widgets/controls",
            "_model_module_version": "1.5.0",
            "_model_name": "DescriptionStyleModel",
            "_view_count": null,
            "_view_module": "@jupyter-widgets/base",
            "_view_module_version": "1.2.0",
            "_view_name": "StyleView",
            "description_width": ""
          }
        }
      }
    }
  },
  "cells": [
    {
      "cell_type": "markdown",
      "metadata": {
        "id": "view-in-github",
        "colab_type": "text"
      },
      "source": [
        "<a href=\"https://colab.research.google.com/github/NikStork/nlp-emotions_classification/blob/master/nlp_emotions.ipynb\" target=\"_parent\"><img src=\"https://colab.research.google.com/assets/colab-badge.svg\" alt=\"Open In Colab\"/></a>"
      ]
    },
    {
      "cell_type": "markdown",
      "source": [
        "# NLP модель\n",
        "Языковая модель для классификации эмоций, выражаемых в текстовых сообщениях\n",
        "\n",
        "---\n",
        "\n",
        "**Тема работы**: *Классификация эмоций, выражаемых в текстовых сообщениях, связанных с дорожным движением*\n",
        "\n",
        "\n",
        "\n",
        "---\n",
        "\n"
      ],
      "metadata": {
        "id": "uUR60TVI_Ce7"
      }
    },
    {
      "cell_type": "markdown",
      "source": [
        "## **1. Импортируем необходимые библиотеки**\n",
        "\n",
        "\n",
        "\n",
        "\n"
      ],
      "metadata": {
        "id": "2KnOPQINYhhQ"
      }
    },
    {
      "cell_type": "code",
      "source": [
        "%pip install pymystem3"
      ],
      "metadata": {
        "colab": {
          "base_uri": "https://localhost:8080/"
        },
        "id": "G3-vIClfZDye",
        "outputId": "8910fb02-2e1f-4fe9-ca24-8bc0e1bbd304"
      },
      "execution_count": null,
      "outputs": [
        {
          "output_type": "stream",
          "name": "stdout",
          "text": [
            "Looking in indexes: https://pypi.org/simple, https://us-python.pkg.dev/colab-wheels/public/simple/\n",
            "Requirement already satisfied: pymystem3 in /usr/local/lib/python3.10/dist-packages (0.2.0)\n",
            "Requirement already satisfied: requests in /usr/local/lib/python3.10/dist-packages (from pymystem3) (2.27.1)\n",
            "Requirement already satisfied: urllib3<1.27,>=1.21.1 in /usr/local/lib/python3.10/dist-packages (from requests->pymystem3) (1.26.15)\n",
            "Requirement already satisfied: certifi>=2017.4.17 in /usr/local/lib/python3.10/dist-packages (from requests->pymystem3) (2022.12.7)\n",
            "Requirement already satisfied: charset-normalizer~=2.0.0 in /usr/local/lib/python3.10/dist-packages (from requests->pymystem3) (2.0.12)\n",
            "Requirement already satisfied: idna<4,>=2.5 in /usr/local/lib/python3.10/dist-packages (from requests->pymystem3) (3.4)\n"
          ]
        }
      ]
    },
    {
      "cell_type": "code",
      "source": [
        "import pandas as pd\n",
        "import numpy as np\n",
        "import tensorflow as tf\n",
        "import matplotlib.pyplot as plt\n",
        "from tensorflow import keras\n",
        "import re\n",
        "from pymystem3 import Mystem\n",
        "from nltk.corpus import stopwords\n",
        "import nltk\n",
        "from tqdm.auto import tqdm\n",
        "from sklearn.model_selection import train_test_split\n",
        "from sklearn.metrics import ConfusionMatrixDisplay"
      ],
      "metadata": {
        "id": "c2ZaxqBm_yCH"
      },
      "execution_count": null,
      "outputs": []
    },
    {
      "cell_type": "markdown",
      "source": [
        "## **2. Подготовка данных**"
      ],
      "metadata": {
        "id": "A-mXFe6VZLnt"
      }
    },
    {
      "cell_type": "markdown",
      "source": [
        "* Загрузим датасет\n",
        "\n",
        "\n"
      ],
      "metadata": {
        "id": "E5hxGGmoauVd"
      }
    },
    {
      "cell_type": "code",
      "source": [
        "# Датасет №1: ru_sentiment_dataset\n",
        "dfOne_train = pd.read_csv('/content/datasets/ru_sentiment_dataset/train.csv')\n",
        "dfOne_test = pd.read_csv('/content/datasets/ru_sentiment_dataset/valid.csv')\n",
        "\n",
        "# Датасет №2: twitter-dataset\n",
        "# dfTwo_pos = pd.read_csv('/content/datasets/twitter-dataset/positive.csv',header=None,sep=';')\n",
        "# dfTwo_neg = pd.read_csv('/content/datasets/twitter-dataset/negative.csv',header=None,sep=';')\n",
        "\n"
      ],
      "metadata": {
        "id": "o7HVIDNntEU1"
      },
      "execution_count": null,
      "outputs": []
    },
    {
      "cell_type": "markdown",
      "source": [
        "* Изменим нумерацию классов в первом датасете\n",
        "\n"
      ],
      "metadata": {
        "id": "JYXaqHtggvJp"
      }
    },
    {
      "cell_type": "code",
      "execution_count": null,
      "metadata": {
        "id": "m8yTV7RSb8Gq"
      },
      "outputs": [],
      "source": [
        "tone_map = {  # Словарь для замены значений классов\n",
        "    0: 0, \n",
        "    1: 1, \n",
        "    2: -1\n",
        "    }  \n",
        "\n",
        "dfOne_train['nsentiment'] = dfOne_train['sentiment'].map(tone_map)\n",
        "dfOne_test['nsentiment'] = dfOne_test['sentiment'].map(tone_map)\n"
      ]
    },
    {
      "cell_type": "markdown",
      "source": [
        "* Объединим датасеты"
      ],
      "metadata": {
        "id": "EUhQXN-TwTf9"
      }
    },
    {
      "cell_type": "code",
      "source": [
        "df = pd.concat([\n",
        "    dfOne_train[['text','nsentiment']],\n",
        "    dfOne_test[['text','nsentiment']],\n",
        "    # pd.DataFrame({ 'text' : dfTwo_pos[3], 'nsentiment' : 1 }),\n",
        "    # pd.DataFrame({ 'text' : dfTwo_neg[3], 'nsentiment' : -1 })\n",
        "])"
      ],
      "metadata": {
        "colab": {
          "base_uri": "https://localhost:8080/",
          "height": 424
        },
        "id": "X-vIkGbhwYC0",
        "outputId": "5489fc43-d176-44f9-f05a-418d436bd61e"
      },
      "execution_count": null,
      "outputs": [
        {
          "output_type": "execute_result",
          "data": {
            "text/plain": [
              "                                                    text  nsentiment\n",
              "0      .с.,и спросил его:  о Посланник Аллаха!Ты пори...           1\n",
              "1      Роднее всех родных Попала я в ГКБ №8 еще в дек...           1\n",
              "2      Непорядочное отношение к своим работникам Рабо...          -1\n",
              "3      ). Отсутствуют нормативы, Госты и прочее, что ...           1\n",
              "4                 У меня машина в руках 5 лет и это п...           1\n",
              "...                                                  ...         ...\n",
              "21093  Несколько лет назад муж останавливался в этом ...           1\n",
              "21094  Спасли от боли После родов у меня появились бо...           1\n",
              "21095  з ролика понятно одно - девушка- наблюдатель  ...           0\n",
              "21096  Остались всем довольны, дружелюбный персонал, ...           0\n",
              "21097  Спасибо огромное за сыночка Хочу выразить огро...           1\n",
              "\n",
              "[210989 rows x 2 columns]"
            ],
            "text/html": [
              "\n",
              "  <div id=\"df-440a87e8-17e1-4839-b26e-1b9aaf43bbfb\">\n",
              "    <div class=\"colab-df-container\">\n",
              "      <div>\n",
              "<style scoped>\n",
              "    .dataframe tbody tr th:only-of-type {\n",
              "        vertical-align: middle;\n",
              "    }\n",
              "\n",
              "    .dataframe tbody tr th {\n",
              "        vertical-align: top;\n",
              "    }\n",
              "\n",
              "    .dataframe thead th {\n",
              "        text-align: right;\n",
              "    }\n",
              "</style>\n",
              "<table border=\"1\" class=\"dataframe\">\n",
              "  <thead>\n",
              "    <tr style=\"text-align: right;\">\n",
              "      <th></th>\n",
              "      <th>text</th>\n",
              "      <th>nsentiment</th>\n",
              "    </tr>\n",
              "  </thead>\n",
              "  <tbody>\n",
              "    <tr>\n",
              "      <th>0</th>\n",
              "      <td>.с.,и спросил его:  о Посланник Аллаха!Ты пори...</td>\n",
              "      <td>1</td>\n",
              "    </tr>\n",
              "    <tr>\n",
              "      <th>1</th>\n",
              "      <td>Роднее всех родных Попала я в ГКБ №8 еще в дек...</td>\n",
              "      <td>1</td>\n",
              "    </tr>\n",
              "    <tr>\n",
              "      <th>2</th>\n",
              "      <td>Непорядочное отношение к своим работникам Рабо...</td>\n",
              "      <td>-1</td>\n",
              "    </tr>\n",
              "    <tr>\n",
              "      <th>3</th>\n",
              "      <td>). Отсутствуют нормативы, Госты и прочее, что ...</td>\n",
              "      <td>1</td>\n",
              "    </tr>\n",
              "    <tr>\n",
              "      <th>4</th>\n",
              "      <td>У меня машина в руках 5 лет и это п...</td>\n",
              "      <td>1</td>\n",
              "    </tr>\n",
              "    <tr>\n",
              "      <th>...</th>\n",
              "      <td>...</td>\n",
              "      <td>...</td>\n",
              "    </tr>\n",
              "    <tr>\n",
              "      <th>21093</th>\n",
              "      <td>Несколько лет назад муж останавливался в этом ...</td>\n",
              "      <td>1</td>\n",
              "    </tr>\n",
              "    <tr>\n",
              "      <th>21094</th>\n",
              "      <td>Спасли от боли После родов у меня появились бо...</td>\n",
              "      <td>1</td>\n",
              "    </tr>\n",
              "    <tr>\n",
              "      <th>21095</th>\n",
              "      <td>з ролика понятно одно - девушка- наблюдатель  ...</td>\n",
              "      <td>0</td>\n",
              "    </tr>\n",
              "    <tr>\n",
              "      <th>21096</th>\n",
              "      <td>Остались всем довольны, дружелюбный персонал, ...</td>\n",
              "      <td>0</td>\n",
              "    </tr>\n",
              "    <tr>\n",
              "      <th>21097</th>\n",
              "      <td>Спасибо огромное за сыночка Хочу выразить огро...</td>\n",
              "      <td>1</td>\n",
              "    </tr>\n",
              "  </tbody>\n",
              "</table>\n",
              "<p>210989 rows × 2 columns</p>\n",
              "</div>\n",
              "      <button class=\"colab-df-convert\" onclick=\"convertToInteractive('df-440a87e8-17e1-4839-b26e-1b9aaf43bbfb')\"\n",
              "              title=\"Convert this dataframe to an interactive table.\"\n",
              "              style=\"display:none;\">\n",
              "        \n",
              "  <svg xmlns=\"http://www.w3.org/2000/svg\" height=\"24px\"viewBox=\"0 0 24 24\"\n",
              "       width=\"24px\">\n",
              "    <path d=\"M0 0h24v24H0V0z\" fill=\"none\"/>\n",
              "    <path d=\"M18.56 5.44l.94 2.06.94-2.06 2.06-.94-2.06-.94-.94-2.06-.94 2.06-2.06.94zm-11 1L8.5 8.5l.94-2.06 2.06-.94-2.06-.94L8.5 2.5l-.94 2.06-2.06.94zm10 10l.94 2.06.94-2.06 2.06-.94-2.06-.94-.94-2.06-.94 2.06-2.06.94z\"/><path d=\"M17.41 7.96l-1.37-1.37c-.4-.4-.92-.59-1.43-.59-.52 0-1.04.2-1.43.59L10.3 9.45l-7.72 7.72c-.78.78-.78 2.05 0 2.83L4 21.41c.39.39.9.59 1.41.59.51 0 1.02-.2 1.41-.59l7.78-7.78 2.81-2.81c.8-.78.8-2.07 0-2.86zM5.41 20L4 18.59l7.72-7.72 1.47 1.35L5.41 20z\"/>\n",
              "  </svg>\n",
              "      </button>\n",
              "      \n",
              "  <style>\n",
              "    .colab-df-container {\n",
              "      display:flex;\n",
              "      flex-wrap:wrap;\n",
              "      gap: 12px;\n",
              "    }\n",
              "\n",
              "    .colab-df-convert {\n",
              "      background-color: #E8F0FE;\n",
              "      border: none;\n",
              "      border-radius: 50%;\n",
              "      cursor: pointer;\n",
              "      display: none;\n",
              "      fill: #1967D2;\n",
              "      height: 32px;\n",
              "      padding: 0 0 0 0;\n",
              "      width: 32px;\n",
              "    }\n",
              "\n",
              "    .colab-df-convert:hover {\n",
              "      background-color: #E2EBFA;\n",
              "      box-shadow: 0px 1px 2px rgba(60, 64, 67, 0.3), 0px 1px 3px 1px rgba(60, 64, 67, 0.15);\n",
              "      fill: #174EA6;\n",
              "    }\n",
              "\n",
              "    [theme=dark] .colab-df-convert {\n",
              "      background-color: #3B4455;\n",
              "      fill: #D2E3FC;\n",
              "    }\n",
              "\n",
              "    [theme=dark] .colab-df-convert:hover {\n",
              "      background-color: #434B5C;\n",
              "      box-shadow: 0px 1px 3px 1px rgba(0, 0, 0, 0.15);\n",
              "      filter: drop-shadow(0px 1px 2px rgba(0, 0, 0, 0.3));\n",
              "      fill: #FFFFFF;\n",
              "    }\n",
              "  </style>\n",
              "\n",
              "      <script>\n",
              "        const buttonEl =\n",
              "          document.querySelector('#df-440a87e8-17e1-4839-b26e-1b9aaf43bbfb button.colab-df-convert');\n",
              "        buttonEl.style.display =\n",
              "          google.colab.kernel.accessAllowed ? 'block' : 'none';\n",
              "\n",
              "        async function convertToInteractive(key) {\n",
              "          const element = document.querySelector('#df-440a87e8-17e1-4839-b26e-1b9aaf43bbfb');\n",
              "          const dataTable =\n",
              "            await google.colab.kernel.invokeFunction('convertToInteractive',\n",
              "                                                     [key], {});\n",
              "          if (!dataTable) return;\n",
              "\n",
              "          const docLinkHtml = 'Like what you see? Visit the ' +\n",
              "            '<a target=\"_blank\" href=https://colab.research.google.com/notebooks/data_table.ipynb>data table notebook</a>'\n",
              "            + ' to learn more about interactive tables.';\n",
              "          element.innerHTML = '';\n",
              "          dataTable['output_type'] = 'display_data';\n",
              "          await google.colab.output.renderOutput(dataTable, element);\n",
              "          const docLink = document.createElement('div');\n",
              "          docLink.innerHTML = docLinkHtml;\n",
              "          element.appendChild(docLink);\n",
              "        }\n",
              "      </script>\n",
              "    </div>\n",
              "  </div>\n",
              "  "
            ]
          },
          "metadata": {},
          "execution_count": 9
        }
      ]
    },
    {
      "cell_type": "markdown",
      "source": [
        "* Выполним лемматизацию"
      ],
      "metadata": {
        "id": "5mBk5Tetv9EI"
      }
    },
    {
      "cell_type": "code",
      "source": [
        "regex = \"[A-Za-z0-9!#$%&'()*+,./:;<=>?@[\\]^_`{|}~—\\\"\\-]+\"\n",
        "nltk.download('stopwords')\n",
        "stopwords_ru = stopwords.words(\"russian\")\n",
        "mystem = Mystem()\n",
        "\n",
        "def lemmatize(text, return_list=False):\n",
        "    cleaned_text = re.sub(regex, ' ', text)\n",
        "    tokens = []\n",
        "    lemmas = mystem.lemmatize(cleaned_text)\n",
        "\n",
        "    for lemma in lemmas:\n",
        "        lemma = lemma.strip()\n",
        "        if lemma and lemma not in stopwords_ru and lemma[0] != '@' and not lemma.isascii():\n",
        "            tokens.append(lemma)\n",
        "\n",
        "    if len(tokens) > 2:\n",
        "        if return_list:\n",
        "            return tokens\n",
        "        else:\n",
        "            return ' '.join(tokens)\n",
        "    return None\n",
        "\n",
        "# Выполним лемматизацию для всего датасета\n",
        "tqdm.pandas()\n",
        "df['ntext'] = df['text'].progress_apply(lemmatize)"
      ],
      "metadata": {
        "colab": {
          "base_uri": "https://localhost:8080/",
          "height": 84,
          "referenced_widgets": [
            "ba57a07463a24d76b2a7f56825fd1eca",
            "7f67593f72704294b8f4ae141be0dc3f",
            "9d1c09875aa84339b340e435249ac264",
            "771c440e14ab447faceabd5fe9750ae6",
            "454d9b8d05354003b93851a55df02c98",
            "4f16a63d5d8846f79777a8fdb601521f",
            "9ca9451dc449498ca0fe8652c19fa566",
            "8913186d1c3749bda058d72b04750d36",
            "d75823c91f964898b1bcd381f45e8a65",
            "fe4e6e384ff24139afa53c2079656950",
            "c3d32cb981d148b59e270990e83fe78c"
          ]
        },
        "id": "b0dDy25Dv6O0",
        "outputId": "b7fddbe7-6e3d-4a20-8c4a-082e3140b112"
      },
      "execution_count": null,
      "outputs": [
        {
          "output_type": "stream",
          "name": "stderr",
          "text": [
            "[nltk_data] Downloading package stopwords to /root/nltk_data...\n",
            "[nltk_data]   Package stopwords is already up-to-date!\n"
          ]
        },
        {
          "output_type": "display_data",
          "data": {
            "text/plain": [
              "  0%|          | 0/210989 [00:00<?, ?it/s]"
            ],
            "application/vnd.jupyter.widget-view+json": {
              "version_major": 2,
              "version_minor": 0,
              "model_id": "ba57a07463a24d76b2a7f56825fd1eca"
            }
          },
          "metadata": {}
        }
      ]
    },
    {
      "cell_type": "code",
      "source": [
        "df.to_csv('lemmatized.csv.gz',encoding='utf-8',compression='gzip')"
      ],
      "metadata": {
        "id": "2zlf7FCcMEXz"
      },
      "execution_count": null,
      "outputs": []
    },
    {
      "cell_type": "markdown",
      "source": [
        "* Сохраним датасет, прошедший лемматизацию"
      ],
      "metadata": {
        "id": "9xZ-xdXUyMGM"
      }
    },
    {
      "cell_type": "code",
      "source": [
        "dataset = pd.read_csv('lemmatized.csv.gz',compression='gzip',encoding='utf-8')"
      ],
      "metadata": {
        "id": "_xiTUGOSyLUP"
      },
      "execution_count": null,
      "outputs": []
    },
    {
      "cell_type": "markdown",
      "source": [
        "* Разобьем датасет на обучающую и тестовую выборку, а также удалим пустые значения\n"
      ],
      "metadata": {
        "id": "vLf2Ia6I74Yi"
      }
    },
    {
      "cell_type": "code",
      "source": [
        "dfnn = df[~df['ntext'].isna()]\n",
        "x_train,x_test,y_train,y_test = train_test_split(dfnn['ntext'],dfnn['nsentiment'],shuffle=True,stratify=dfnn['nsentiment'],test_size=0.1)"
      ],
      "metadata": {
        "id": "0EM5oF0U73Gy"
      },
      "execution_count": null,
      "outputs": []
    },
    {
      "cell_type": "markdown",
      "source": [
        "## **3. Обучение модели**"
      ],
      "metadata": {
        "id": "zHl2sc_TQs79"
      }
    },
    {
      "cell_type": "markdown",
      "source": [
        "* Теперь подготовим модель и определим ее архитектуру. Мы используем многослойный двунаправленный LSTM RNN для нашей задачи. \n",
        "\n"
      ],
      "metadata": {
        "id": "KbW6lOb8Q_7c"
      }
    },
    {
      "cell_type": "code",
      "source": [],
      "metadata": {
        "id": "K7FvHKGnV8R4"
      },
      "execution_count": null,
      "outputs": []
    }
  ]
}